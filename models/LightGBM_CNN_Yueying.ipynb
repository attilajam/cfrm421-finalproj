{
 "cells": [
  {
   "cell_type": "markdown",
   "metadata": {},
   "source": [
    "# CFRM421 Final Project \n",
    "**Contributor:** Yueying Du\n",
    "\n",
    "## Overview\n",
    "This project focuses on predicting next‐second stock returns using the Optiver “Trading at the Close” dataset from Kaggle. I explore two main approaches:\n",
    "1. **LightGBM regression** with both core and derived features.  \n",
    "2. **1D CNN** to capture short‐term temporal patterns in a sliding‐window fashion.\n",
    "\n",
    "## Data Preparation\n",
    "- Load `train.csv`, compute per‐second “index” as the day‐wide mean of WAP, and create a scaled “delta” feature.  \n",
    "- Split the first 400 unique dates for training and the remaining dates for validation.  \n",
    "\n",
    "## Modeling Steps\n",
    "1. **LightGBM Baseline**  \n",
    "   - Use 11 core features to train a baseline model.  \n",
    "   - Evaluate RMSE and MAE on validation.  \n",
    "2. **LightGBM with Derived Features**  \n",
    "   - Add 6 new features to capture liquidity and volatility patterns.  \n",
    "   - Observe MAE decrease compared to the baseline.  \n",
    "3. **1D CNN Experiment**  \n",
    "   - Standardize selected features and build sliding‐window datasets.  \n",
    "   - Define a simple two‐layer 1D CNN, train with early stopping, and report RMSE/MAE on validation.\n",
    "\n",
    "## Results Summary\n",
    "- **Baseline LightGBM (11 features)**: Validation MAE ≈ 5.925.  \n",
    "- **LightGBM + derived features**: Validation MAE reduced to ≈ 5.922.  \n",
    "- **1D CNN**: Validation MAE ≈ 5.993 (comparable but not better than LightGBM).\n",
    "\n"
   ]
  },
  {
   "cell_type": "markdown",
   "metadata": {},
   "source": [
    "## 1. Data Loading and Initial Inspection\n"
   ]
  },
  {
   "cell_type": "code",
   "execution_count": 30,
   "metadata": {},
   "outputs": [
    {
     "name": "stdout",
     "output_type": "stream",
     "text": [
      "Number of unique date_id values: 481\n"
     ]
    }
   ],
   "source": [
    "import pandas as pd\n",
    "import numpy as np\n",
    "\n",
    "# Load the data\n",
    "df = pd.read_csv(\"train.csv\")\n",
    "\n",
    "# Count how many unique dates are in the dataset\n",
    "unique_dates = df[\"date_id\"].nunique()\n",
    "print(\"Number of unique date_id values:\", unique_dates)\n",
    "\n",
    "# Sort all unique date_id values\n",
    "unique_dates = sorted(df[\"date_id\"].unique())\n",
    "\n",
    "# Use the first 400 dates for training, the rest for validation\n",
    "train_dates = unique_dates[:400]\n",
    "val_dates = unique_dates[400:]\n",
    "\n",
    "# Compute the average 'wap' per date_id and seconds_in_bucket as an index\n",
    "index_df = (df.groupby(['date_id', 'seconds_in_bucket'])['wap'].mean().reset_index())\n",
    "index_df.rename(columns={'wap': 'index'}, inplace=True)\n",
    "\n",
    "# Merge the index back into the main DataFrame\n",
    "df = pd.merge(df, index_df, how='left', on=['date_id', 'seconds_in_bucket'])\n",
    "\n",
    "# Create a 'delta' feature: scaled difference between 'wap' and the index\n",
    "df['delta'] = (df['wap'] - df['index']) / df['index'] * 10**4\n",
    "\n",
    "# Split into training and validation sets based on date_id\n",
    "df_train = df[df[\"date_id\"].isin(train_dates)]\n",
    "df_val = df[df[\"date_id\"].isin(val_dates)]\n",
    "\n",
    "# Remove rows where 'target' is NaN\n",
    "df_train = df_train[~df_train[\"target\"].isna()]\n",
    "df_val = df_val[~df_val[\"target\"].isna()]\n",
    "\n",
    "# Define the list of features to use for the model\n",
    "feature_columns = [\n",
    "    'seconds_in_bucket',\n",
    "    'imbalance_size',\n",
    "    'imbalance_buy_sell_flag',\n",
    "    'reference_price',\n",
    "    'matched_size',\n",
    "    'bid_price',\n",
    "    'bid_size',\n",
    "    'ask_price',\n",
    "    'ask_size',\n",
    "    'wap',\n",
    "    'delta'\n",
    "]\n",
    "\n",
    "# Create training input (X) and target (y) from the filtered training DataFrame\n",
    "X_train = df_train[feature_columns]\n",
    "y_train = df_train[\"target\"]\n",
    "\n",
    "# Create validation input (X) and target (y) from the filtered validation DataFrame\n",
    "X_val = df_val[feature_columns]\n",
    "y_val = df_val[\"target\"]"
   ]
  },
  {
   "cell_type": "markdown",
   "metadata": {},
   "source": [
    "## 2. LightGBM \n",
    "### 2.1 LightGBM Baseline"
   ]
  },
  {
   "cell_type": "code",
   "execution_count": 36,
   "metadata": {},
   "outputs": [
    {
     "name": "stdout",
     "output_type": "stream",
     "text": [
      "[LightGBM] [Warning] lambda_l1 is set=0.5, reg_alpha=0.0 will be ignored. Current value: lambda_l1=0.5\n",
      "[LightGBM] [Warning] lambda_l2 is set=0.5, reg_lambda=0.0 will be ignored. Current value: lambda_l2=0.5\n",
      "[LightGBM] [Warning] lambda_l1 is set=0.5, reg_alpha=0.0 will be ignored. Current value: lambda_l1=0.5\n",
      "[LightGBM] [Warning] lambda_l2 is set=0.5, reg_lambda=0.0 will be ignored. Current value: lambda_l2=0.5\n",
      "[LightGBM] [Info] Auto-choosing row-wise multi-threading, the overhead of testing was 0.023397 seconds.\n",
      "You can set `force_row_wise=true` to remove the overhead.\n",
      "And if memory is not enough, you can set `force_col_wise=true`.\n",
      "[LightGBM] [Info] Total Bins 2353\n",
      "[LightGBM] [Info] Number of data points in the train set: 4346893, number of used features: 11\n",
      "[LightGBM] [Warning] lambda_l1 is set=0.5, reg_alpha=0.0 will be ignored. Current value: lambda_l1=0.5\n",
      "[LightGBM] [Warning] lambda_l2 is set=0.5, reg_lambda=0.0 will be ignored. Current value: lambda_l2=0.5\n",
      "[LightGBM] [Info] Start training from score -0.047697\n",
      "Training until validation scores don't improve for 150 rounds\n",
      "[150]\tvalid_0's rmse: 8.858\n",
      "[300]\tvalid_0's rmse: 8.85314\n",
      "[450]\tvalid_0's rmse: 8.85184\n",
      "[600]\tvalid_0's rmse: 8.85263\n",
      "Early stopping, best iteration is:\n",
      "[514]\tvalid_0's rmse: 8.85152\n",
      "[LightGBM] [Warning] lambda_l1 is set=0.5, reg_alpha=0.0 will be ignored. Current value: lambda_l1=0.5\n",
      "[LightGBM] [Warning] lambda_l2 is set=0.5, reg_lambda=0.0 will be ignored. Current value: lambda_l2=0.5\n",
      "Validation RMSE: 8.8515\n",
      "Baseline LGBM Val MAE: 5.9249\n"
     ]
    }
   ],
   "source": [
    "from lightgbm import LGBMRegressor, early_stopping, log_evaluation\n",
    "from sklearn.metrics import mean_squared_error, mean_absolute_error\n",
    "\n",
    "# Initialize a LightGBM regressor\n",
    "model = LGBMRegressor(\n",
    "    objective='regression',\n",
    "    metric='rmse',\n",
    "    boosting_type='gbdt',\n",
    "    learning_rate=0.03,\n",
    "    num_leaves=31,\n",
    "    n_estimators=2000,\n",
    "    min_child_samples=50,\n",
    "    lambda_l1=0.5,\n",
    "    lambda_l2=0.5,\n",
    "    random_state=42,\n",
    "    n_jobs=-1\n",
    ")\n",
    "\n",
    "# Train the model with early stopping and logging evaluation results\n",
    "model.fit(\n",
    "    X_train, y_train,\n",
    "    eval_set=[(X_val, y_val)],\n",
    "    eval_metric='rmse',\n",
    "    callbacks=[\n",
    "        early_stopping(stopping_rounds=150, verbose=True),\n",
    "        log_evaluation(period=150)\n",
    "    ]\n",
    ")\n",
    "\n",
    "# Make predictions on the validation set\n",
    "y_pred = model.predict(X_val)\n",
    "\n",
    "mse = mean_squared_error(y_val, y_pred)\n",
    "rmse = np.sqrt(mse)\n",
    "print(f\"Validation RMSE: {rmse:.4f}\")\n",
    "\n",
    "mae_baseline = mean_absolute_error(y_val, y_pred)\n",
    "print(f\"Baseline LGBM Val MAE: {mae_baseline:.4f}\")"
   ]
  },
  {
   "cell_type": "code",
   "execution_count": 37,
   "metadata": {},
   "outputs": [
    {
     "data": {
      "image/png": "[encoded data removed]",
      "text/plain": [
       "<Figure size 640x480 with 1 Axes>"
      ]
     },
     "metadata": {},
     "output_type": "display_data"
    }
   ],
   "source": [
    "import matplotlib.pyplot as plt\n",
    "from lightgbm import plot_importance\n",
    "\n",
    "# Plot the top 10 feature importances by gain\n",
    "plot_importance(model, max_num_features=10, importance_type='gain')\n",
    "plt.title(\"Top 10 Feature Importances\")\n",
    "plt.show()"
   ]
  },
  {
   "cell_type": "markdown",
   "metadata": {},
   "source": [
    "### 2.2 LighGBM with Derived Features"
   ]
  },
  {
   "cell_type": "code",
   "execution_count": 38,
   "metadata": {},
   "outputs": [],
   "source": [
    "# Add derived features\n",
    "\n",
    "# Liquidity ratio features\n",
    "df['liq_ratio_1'] = df['ask_size'] / (df['ask_size'] + df['bid_size'])\n",
    "df['liq_ratio_2'] = (df['ask_size'] - df['bid_size']) / (df['ask_size'] + df['bid_size'])\n",
    "df.loc[(df['ask_size'] + df['bid_size']) == 0, ['liq_ratio_1', 'liq_ratio_2']] = 0.0\n",
    "\n",
    "# Price spread features\n",
    "df['price_spread'] = df['ask_price'] - df['bid_price']\n",
    "df['abs_price_spread'] = df['price_spread'].abs()\n",
    "\n",
    "# Rolling statistics for WAP within each date_id\n",
    "df = df.sort_values(['date_id', 'seconds_in_bucket']).reset_index(drop=True)\n",
    "df['wap_roll_mean_3'] = (df.groupby('date_id')['wap']\n",
    "    .transform(lambda x: x.rolling(window=3, min_periods=1).mean())\n",
    ")\n",
    "df['wap_roll_std_3'] = (df.groupby('date_id')['wap']\n",
    "    .transform(lambda x: x.rolling(window=3, min_periods=1).std())\n",
    ")\n",
    "# Fill NaN values resulting from rolling with zero\n",
    "df['wap_roll_std_3'] = df['wap_roll_std_3'].fillna(0.0)\n"
   ]
  },
  {
   "cell_type": "code",
   "execution_count": 40,
   "metadata": {},
   "outputs": [],
   "source": [
    "# Split into training and validation sets, then drop rows with missing target\n",
    "unique_dates = sorted(df[\"date_id\"].unique())\n",
    "train_dates = unique_dates[:400]\n",
    "val_dates = unique_dates[400:]\n",
    "\n",
    "df_train = df[df[\"date_id\"].isin(train_dates)].copy()\n",
    "df_val = df[df[\"date_id\"].isin(val_dates)].copy()\n",
    "\n",
    "df_train = df_train[~df_train[\"target\"].isna()].reset_index(drop=True)\n",
    "df_val = df_val[~df_val[\"target\"].isna()].reset_index(drop=True)\n"
   ]
  },
  {
   "cell_type": "code",
   "execution_count": 41,
   "metadata": {},
   "outputs": [
    {
     "name": "stdout",
     "output_type": "stream",
     "text": [
      "[LightGBM] [Warning] lambda_l1 is set=0.5, reg_alpha=0.0 will be ignored. Current value: lambda_l1=0.5\n",
      "[LightGBM] [Warning] lambda_l2 is set=0.5, reg_lambda=0.0 will be ignored. Current value: lambda_l2=0.5\n",
      "[LightGBM] [Warning] lambda_l1 is set=0.5, reg_alpha=0.0 will be ignored. Current value: lambda_l1=0.5\n",
      "[LightGBM] [Warning] lambda_l2 is set=0.5, reg_lambda=0.0 will be ignored. Current value: lambda_l2=0.5\n",
      "[LightGBM] [Info] Auto-choosing row-wise multi-threading, the overhead of testing was 0.027446 seconds.\n",
      "You can set `force_row_wise=true` to remove the overhead.\n",
      "And if memory is not enough, you can set `force_col_wise=true`.\n",
      "[LightGBM] [Info] Total Bins 3115\n",
      "[LightGBM] [Info] Number of data points in the train set: 4346893, number of used features: 13\n",
      "[LightGBM] [Warning] lambda_l1 is set=0.5, reg_alpha=0.0 will be ignored. Current value: lambda_l1=0.5\n",
      "[LightGBM] [Warning] lambda_l2 is set=0.5, reg_lambda=0.0 will be ignored. Current value: lambda_l2=0.5\n",
      "[LightGBM] [Info] Start training from score -0.047697\n",
      "[150]\ttraining's rmse: 9.38369\tvalid_1's rmse: 8.85527\n",
      "[LightGBM] [Warning] lambda_l1 is set=0.5, reg_alpha=0.0 will be ignored. Current value: lambda_l1=0.5\n",
      "[LightGBM] [Warning] lambda_l2 is set=0.5, reg_lambda=0.0 will be ignored. Current value: lambda_l2=0.5\n",
      "[LightGBM] [Warning] lambda_l1 is set=0.5, reg_alpha=0.0 will be ignored. Current value: lambda_l1=0.5\n",
      "[LightGBM] [Warning] lambda_l2 is set=0.5, reg_lambda=0.0 will be ignored. Current value: lambda_l2=0.5\n",
      "Train RMSE: 9.3979\n",
      "Val RMSE: 8.8531\n",
      "LGBM Val MAE: 5.9216\n"
     ]
    }
   ],
   "source": [
    "# Train LightGBM including derived features as model inputs\n",
    "core_features = [\n",
    "    'ask_size', 'bid_size', 'seconds_in_bucket',\n",
    "    'matched_size', 'delta', 'wap', 'imbalance_size'\n",
    "]\n",
    "derived_features = [\n",
    "    'liq_ratio_1', 'liq_ratio_2',\n",
    "    'price_spread', 'abs_price_spread',\n",
    "    'wap_roll_mean_3', 'wap_roll_std_3'\n",
    "]\n",
    "\n",
    "all_features = core_features + derived_features\n",
    "\n",
    "X_train_all = df_train[all_features]\n",
    "y_train_all = df_train['target']\n",
    "\n",
    "X_val_all = df_val[all_features]\n",
    "y_val_all = df_val['target']\n",
    "\n",
    "model_all = LGBMRegressor(\n",
    "    objective='regression',\n",
    "    metric='rmse',\n",
    "    boosting_type='gbdt',\n",
    "    learning_rate=0.03,\n",
    "    num_leaves=31,\n",
    "    n_estimators=2000,\n",
    "    min_child_samples=50,\n",
    "    lambda_l1=0.5,\n",
    "    lambda_l2=0.5,\n",
    "    random_state=42,\n",
    "    n_jobs=-1\n",
    ")\n",
    "\n",
    "model_all.fit(\n",
    "    X_train_all, y_train_all,\n",
    "    eval_set=[(X_train_all, y_train_all), (X_val_all, y_val_all)],\n",
    "    eval_metric='rmse',\n",
    "    callbacks=[\n",
    "        early_stopping(stopping_rounds=150, verbose=False),\n",
    "        log_evaluation(period=150)\n",
    "    ]\n",
    ")\n",
    "\n",
    "#Compute and print RMSE on training and validation sets (all features)\n",
    "y_train_pred_all = model_all.predict(X_train_all)\n",
    "mse_train_all = mean_squared_error(y_train_all, y_train_pred_all)\n",
    "rmse_train_all = np.sqrt(mse_train_all)\n",
    "\n",
    "y_val_pred_all = model_all.predict(X_val_all)\n",
    "mse_val_all = mean_squared_error(y_val_all, y_val_pred_all)\n",
    "rmse_val_all = np.sqrt(mse_val_all)\n",
    "\n",
    "print(f\"Train RMSE: {rmse_train_all:.4f}\")\n",
    "print(f\"Val RMSE: {rmse_val_all:.4f}\")\n",
    "\n",
    "mae_all = mean_absolute_error(y_val_all, y_val_pred_all)\n",
    "print(f\"LGBM Val MAE: {mae_all:.4f}\")\n"
   ]
  },
  {
   "cell_type": "markdown",
   "metadata": {},
   "source": [
    "**By including these derived features, the model captures intraday liquidity dynamics and short‐term price volatility more effectively. As a result, validation MAE decreased compared to the baseline model without derived features.**"
   ]
  },
  {
   "cell_type": "markdown",
   "metadata": {},
   "source": [
    "## 3. CNN \n",
    "\n",
    "- **Data Preparation**  \n",
    "  First I standardized a few key numerical features and then created fixed‐length windows of 20 consecutive time steps. Each window serves as one input sample, with its label being the target value at the next time step.\n",
    "\n",
    "- **Model Structure**  \n",
    "  The network consists of two 1D convolutional layers, followed by global average pooling, a small dense layer with dropout, and a final output neuron for regression.\n",
    "\n",
    "- **Training Setup**  \n",
    "  I used an Adam optimizer with a reduced learning rate (0.0005), mean squared error loss, and early stopping to prevent overfitting. Batch size was set to 1024, and training ran for up to 10 epochs.\n",
    "\n",
    "- **Outcome**  \n",
    "  On the validation set, the CNN achieved an RMSE around 9 and MAE around 6.\n"
   ]
  },
  {
   "cell_type": "code",
   "execution_count": 13,
   "metadata": {},
   "outputs": [
    {
     "name": "stderr",
     "output_type": "stream",
     "text": [
      "/Users/jiaqiao/Downloads/CFRM421/Final_Project/cfrm421-finalproj/.venv/lib/python3.10/site-packages/keras/src/layers/convolutional/base_conv.py:113: UserWarning: Do not pass an `input_shape`/`input_dim` argument to a layer. When using Sequential models, prefer using an `Input(shape)` object as the first layer in the model instead.\n",
      "  super().__init__(activity_regularizer=activity_regularizer, **kwargs)\n"
     ]
    },
    {
     "name": "stdout",
     "output_type": "stream",
     "text": [
      "Epoch 1/10\n",
      "4240/4240 - 74s - 18ms/step - loss: 91.2592 - val_loss: 79.9576\n",
      "Epoch 2/10\n",
      "4240/4240 - 69s - 16ms/step - loss: 91.2372 - val_loss: 79.9480\n",
      "Epoch 3/10\n",
      "4240/4240 - 78s - 18ms/step - loss: 91.2285 - val_loss: 79.9502\n",
      "Epoch 4/10\n",
      "4240/4240 - 82s - 19ms/step - loss: 91.2158 - val_loss: 79.9695\n",
      "\u001b[1m27805/27805\u001b[0m \u001b[32m━━━━━━━━━━━━━━━━━━━━\u001b[0m\u001b[37m\u001b[0m \u001b[1m11s\u001b[0m 402us/step\n"
     ]
    }
   ],
   "source": [
    "from sklearn.preprocessing import StandardScaler\n",
    "import numpy as np\n",
    "import tensorflow as tf\n",
    "from tensorflow.keras.models import Sequential\n",
    "from tensorflow.keras.layers import Conv1D, GlobalAveragePooling1D, Dense, BatchNormalization, Dropout\n",
    "from tensorflow.keras.optimizers import Adam\n",
    "from tensorflow.keras.callbacks import EarlyStopping\n",
    "\n",
    "# Select features for the CNN\n",
    "seq_cols = [\n",
    "    'ask_size', 'bid_size', 'wap', 'delta',\n",
    "    'liq_ratio_1', 'liq_ratio_2', 'price_spread', 'abs_price_spread'\n",
    "]\n",
    "\n",
    "# Drop rows with missing values and standardize\n",
    "df_train = df_train.dropna(subset=seq_cols + ['target']).reset_index(drop=True)\n",
    "df_val = df_val.dropna(subset=seq_cols + ['target']).reset_index(drop=True)\n",
    "\n",
    "scaler = StandardScaler()\n",
    "df_train[seq_cols] = scaler.fit_transform(df_train[seq_cols])\n",
    "df_val[seq_cols] = scaler.transform(df_val[seq_cols])\n",
    "\n",
    "def build_cnn_input(df, seq_cols, seq_len=10):\n",
    "    X_list, y_list = [], []\n",
    "    df_sorted = df.sort_values(['date_id', 'seconds_in_bucket']).reset_index(drop=True)\n",
    "    for date_id in df_sorted['date_id'].unique():\n",
    "        sub = df_sorted[df_sorted['date_id'] == date_id].reset_index(drop=True)\n",
    "        data_mat = sub[seq_cols].values\n",
    "        targets  = sub['target'].values\n",
    "        for i in range(seq_len, len(sub)):\n",
    "            X_list.append(data_mat[i-seq_len:i, :])\n",
    "            y_list.append(targets[i])\n",
    "    return np.array(X_list), np.array(y_list)\n",
    "\n",
    "seq_len = 15\n",
    "X_train_cnn, y_train_cnn = build_cnn_input(df_train, seq_cols, seq_len=seq_len)\n",
    "X_val_cnn, y_val_cnn = build_cnn_input(df_val, seq_cols, seq_len=seq_len)\n",
    "\n",
    "num_features = len(seq_cols)\n",
    "\n",
    "# Build the CNN model\n",
    "cnn_model = Sequential([\n",
    "    Conv1D(64, 3, activation='relu', input_shape=(seq_len, num_features)),\n",
    "    BatchNormalization(),\n",
    "    Conv1D(32, 3, activation='relu'),\n",
    "    BatchNormalization(),\n",
    "    GlobalAveragePooling1D(),\n",
    "    Dense(32, activation='relu'),\n",
    "    Dropout(0.3),\n",
    "    Dense(1, activation='linear')\n",
    "])\n",
    "\n",
    "# Use a smaller learning rate for Adam\n",
    "optimizer = Adam(learning_rate=5e-4)\n",
    "cnn_model.compile(optimizer=optimizer, loss='mse')\n",
    "\n",
    "early_stop = EarlyStopping(monitor='val_loss', patience=2, restore_best_weights=True)\n",
    "\n",
    "# Train the model\n",
    "cnn_model.fit(\n",
    "    X_train_cnn, y_train_cnn,\n",
    "    validation_data=(X_val_cnn, y_val_cnn),\n",
    "    epochs=10,\n",
    "    batch_size=512,\n",
    "    callbacks=[early_stop],\n",
    "    verbose=2\n",
    ")\n",
    "\n",
    "# Make predictions on the validation set\n",
    "y_val_pred = cnn_model.predict(X_val_cnn).flatten()"
   ]
  },
  {
   "cell_type": "code",
   "execution_count": 14,
   "metadata": {},
   "outputs": [
    {
     "name": "stdout",
     "output_type": "stream",
     "text": [
      "CNN Val RMSE: 8.9414\n",
      "CNN Val MAE: 5.9931\n"
     ]
    }
   ],
   "source": [
    "# Align lengths of true and predicted arrays\n",
    "m = min(len(y_val_cnn), len(y_val_pred))\n",
    "y_true_aligned = y_val_cnn[:m]\n",
    "y_pred_aligned = y_val_pred[:m]\n",
    "\n",
    "# Compute RMSE using numpy\n",
    "rmse = np.sqrt(np.nanmean((y_true_aligned - y_pred_aligned) ** 2))\n",
    "print(f\"CNN Val RMSE: {rmse:.4f}\")\n",
    "\n",
    "# Compute MAE using sklearn\n",
    "mae = mean_absolute_error(y_true_aligned, y_pred_aligned)\n",
    "print(f\"CNN Val MAE: {mae:.4f}\")"
   ]
  },
  {
   "cell_type": "markdown",
   "metadata": {},
   "source": [
    "## Conclusions and Next Steps\n",
    "\n",
    "- **Why I didn’t blend CNN with LightGBM:**\n",
    "Aligning the CNN outputs (which use sliding windows) with the LightGBM row-wise predictions requires keeping track of the exact row indices for each CNN sample. That index alignment logic is a bit complex and would take extra code to ensure every CNN prediction matches the correct LightGBM prediction. Therefore, I simply report the standalone CNN performance (MAE ≈ 5.99) and skip the blending step.\n",
    "\n",
    "\n",
    "\n",
    "\n",
    "\n"
   ]
  }
 ],
 "metadata": {
  "kernelspec": {
   "display_name": "Python 3",
   "language": "python",
   "name": "python3"
  },
  "language_info": {
   "codemirror_mode": {
    "name": "ipython",
    "version": 3
   },
   "file_extension": ".py",
   "mimetype": "text/x-python",
   "name": "python",
   "nbconvert_exporter": "python",
   "pygments_lexer": "ipython3",
   "version": "3.10.14"
  }
 },
 "nbformat": 4,
 "nbformat_minor": 2
}
